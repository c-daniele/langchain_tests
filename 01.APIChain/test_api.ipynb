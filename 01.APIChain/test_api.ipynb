{
 "cells": [
  {
   "cell_type": "code",
   "execution_count": 15,
   "metadata": {},
   "outputs": [
    {
     "name": "stdout",
     "output_type": "stream",
     "text": [
      "1. Product: Polo Ralph Lauren Men's Slim Fit Wicking Crew Undershirts 3-pack - White\n",
      "   Price: $37.99\n",
      "   URL: [Product Link](https://www.klarna.com/us/shopping/pl/cl10001/3207134809/Clothing/Polo-Ralph-Lauren-Men-s-Slim-Fit-Wicking-Crew-Undershirts-3-pack-White/?utm_source=openai&ref-site=openai_plugin)\n",
      "\n",
      "2. Product: Lacoste Men's T-shirts 3-pack - Black\n",
      "   Price: $31.90\n",
      "   URL: [Product Link](https://www.klarna.com/us/shopping/pl/cl10001/3202043025/Clothing/Lacoste-Men-s-T-shirts-3-pack-Black/?utm_source=openai&ref-site=openai_plugin)\n",
      "\n",
      "3. Product: SKIMS Cotton Jersey T-shirt\n",
      "   Price: $48.00\n",
      "   URL: [Product Link](https://www.klarna.com/us/shopping/pl/cl10001/3202929904/Clothing/SKIMS-Cotton-Jersey-T-shirt/?utm_source=openai&ref-site=openai_plugin)\n"
     ]
    }
   ],
   "source": [
    "from langchain.chains import APIChain\n",
    "from libs import *\n",
    "from dotenv import load_dotenv\n",
    "from prompt_improved import *\n",
    "import httpx\n",
    "import logging as logger\n",
    "import sys\n",
    "\n",
    "# Set WARNING Logger levels help print only meaningful text\n",
    "logger.basicConfig(stream=sys.stdout, level=logger.WARNING)\n",
    "logger.getLogger('botocore').setLevel(logger.WARNING)\n",
    "logger.getLogger('httpx').setLevel(logger.WARNING)\n",
    "\n",
    "# loading ENV variables\n",
    "load_dotenv()\n",
    "\n",
    "# Initialize Models\n",
    "gpt35 = create_llm(model={\"provider\":\"OpenAI\", \"value\": \"gpt-3.5-turbo\"}, model_kwargs={\"temperature\": 0.1})\n",
    "gpt4 = create_llm(model={\"provider\":\"OpenAI\", \"value\": \"gpt-4\"}, model_kwargs={\"temperature\": 0.1})\n",
    "claude3 = create_llm(model={\"provider\":\"Anthropic\", \"value\": \"anthropic.claude-3-sonnet-20240229-v1:0\"}, model_kwargs={\"temperature\": 0.1})\n",
    "llama2 = create_llm(model={\"provider\":\"Meta\", \"value\": \"meta.llama2-70b-chat-v1\"}, model_kwargs=None)\n",
    "\n",
    "# Dynamically retrieve swagger\n",
    "output = httpx.get(\"https://www.klarna.com/us/shopping/public/openai/v0/api-docs/\")\n",
    "swagger = output.text\n",
    "\n",
    "# build the APIChain \n",
    "chain = APIChain.from_llm_and_api_docs(\n",
    "    llm=gpt4,\n",
    "    api_docs=swagger,\n",
    "    verbose=False,\n",
    "    limit_to_domains=[\"klarna.com\", \"https://www.klarna.com/\", \"https://www.klarna.com\"],\n",
    "    api_url_prompt=FINE_TUNED_API_URL_PROMPT,\n",
    "    api_response_prompt=FINE_TUNED_API_RESPONSE_PROMPT\n",
    ")\n",
    "\n",
    "\n",
    "# Ask a question to the Chain\n",
    "response = chain.invoke(\n",
    "    \"Find 3 t-shirts, max 50 USD. For each Product print the Description, the Price and the corresponding URL\"\n",
    ")\n",
    "\n",
    "# Print the Chain Output\n",
    "print(response['output'])"
   ]
  },
  {
   "cell_type": "code",
   "execution_count": 3,
   "metadata": {},
   "outputs": [
    {
     "name": "stdout",
     "output_type": "stream",
     "text": [
      "\n",
      "\n",
      "\u001b[1m> Entering new APIChain chain...\u001b[0m\n",
      "\u001b[32;1m\u001b[1;3m  https://api.open-meteo.com/v1/forecast?hourly=true&temperature_unit=fahrenheit&wind_speed_unit=mph&timeformat=unixtime&latitude=48.137399&longitude=11.575193&current_weather=true\u001b[0m\n",
      "\u001b[33;1m\u001b[1;3m{\"error\":true,\"reason\":\"Data corrupted at path ''. Cannot initialize SurfaceAndPressureVariable<VariableAndPreviousDay, ForecastPressureVariable> from invalid String value true.\"}\u001b[0m\n",
      "\n",
      "\u001b[1m> Finished chain.\u001b[0m\n",
      "  The API call returned an error message indicating that the data is corrupted and cannot be initialized. Therefore, the question about the current weather in Munich, Germany cannot be answered using this API call.\n"
     ]
    }
   ],
   "source": [
    "output = httpx.get(\"https://raw.githubusercontent.com/open-meteo/open-meteo/main/openapi.yml\")\n",
    "meteo_swagger = output.text\n",
    "\n",
    "chain = APIChain.from_llm_and_api_docs(\n",
    "    llm=llama2,\n",
    "    api_docs=meteo_swagger,\n",
    "    verbose=True,\n",
    "    limit_to_domains=None,\n",
    "    api_url_prompt=FINE_TUNED_API_URL_PROMPT,\n",
    "    api_response_prompt=FINE_TUNED_API_RESPONSE_PROMPT\n",
    ")\n",
    "\n",
    "# Ask a question to the Chain\n",
    "response = chain.invoke(\n",
    "    \"What is the weather like right now in Munich, Germany in degrees Fahrenheit?\"\n",
    ")\n",
    "\n",
    "# Print the Chain Output\n",
    "print(response['output'])"
   ]
  },
  {
   "cell_type": "code",
   "execution_count": 5,
   "metadata": {},
   "outputs": [
    {
     "name": "stdout",
     "output_type": "stream",
     "text": [
      "\n",
      "\n",
      "\u001b[1m> Entering new APIChain chain...\u001b[0m\n",
      "\u001b[32;1m\u001b[1;3mhttps://api.open-meteo.com/v1/forecast?latitude=48.137&longitude=11.575&current_weather=true&temperature_unit=fahrenheit\u001b[0m\n",
      "\u001b[33;1m\u001b[1;3m{\"latitude\":48.14,\"longitude\":11.58,\"generationtime_ms\":0.07104873657226562,\"utc_offset_seconds\":0,\"timezone\":\"GMT\",\"timezone_abbreviation\":\"GMT\",\"elevation\":524.0,\"current_weather_units\":{\"time\":\"iso8601\",\"interval\":\"seconds\",\"temperature\":\"°F\",\"windspeed\":\"km/h\",\"winddirection\":\"°\",\"is_day\":\"\",\"weathercode\":\"wmo code\"},\"current_weather\":{\"time\":\"2024-04-24T12:15\",\"interval\":900,\"temperature\":45.7,\"windspeed\":17.7,\"winddirection\":264,\"is_day\":1,\"weathercode\":3}}\u001b[0m\n",
      "\n",
      "\u001b[1m> Finished chain.\u001b[0m\n",
      "The current weather in Munich, Germany is 45.7°F with a wind speed of 17.7 km/h coming from 264° direction.\n"
     ]
    }
   ],
   "source": [
    "\n",
    "chain = APIChain.from_llm_and_api_docs(\n",
    "    llm=gpt35,\n",
    "    api_docs=meteo_swagger,\n",
    "    verbose=True,\n",
    "    limit_to_domains=None,\n",
    "    api_url_prompt=FINE_TUNED_API_URL_PROMPT,\n",
    "    api_response_prompt=FINE_TUNED_API_RESPONSE_PROMPT\n",
    ")\n",
    "\n",
    "# Ask a question to the Chain\n",
    "response = chain.invoke(\n",
    "    \"What is the weather like right now in Munich, Germany in degrees Fahrenheit?\"\n",
    ")\n",
    "\n",
    "# Print the Chain Output\n",
    "print(response['output'])"
   ]
  }
 ],
 "metadata": {
  "kernelspec": {
   "display_name": "lc",
   "language": "python",
   "name": "python3"
  },
  "language_info": {
   "codemirror_mode": {
    "name": "ipython",
    "version": 3
   },
   "file_extension": ".py",
   "mimetype": "text/x-python",
   "name": "python",
   "nbconvert_exporter": "python",
   "pygments_lexer": "ipython3",
   "version": "3.11.4"
  }
 },
 "nbformat": 4,
 "nbformat_minor": 2
}
